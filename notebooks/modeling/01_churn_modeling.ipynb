{
 "cells": [
  {
   "cell_type": "code",
   "execution_count": null,
   "metadata": {},
   "outputs": [],
   "source": [
    "import pandas as pd\n",
    "from sklearn.ensemble import RandomForestClassifier\n",
    "data = pd.read_csv('../../data/ml_features/churn_features.csv')\n",
    "X = data.drop(columns=['user_id', 'churn'])\n",
    "y = data['churn']\n",
    "model = RandomForestClassifier().fit(X, y)"
   ]
  }
 ],
 "metadata": {},
 "nbformat": 4,
 "nbformat_minor": 5
}
